{
 "cells": [
  {
   "cell_type": "markdown",
   "metadata": {},
   "source": [
    "### Dependencies"
   ]
  },
  {
   "cell_type": "code",
   "execution_count": null,
   "metadata": {},
   "outputs": [],
   "source": [
    "import time \n",
    "from selenium import webdriver\n",
    "from selenium.webdriver.common.keys import Keys\n",
    "from selenium.webdriver.chrome.options import Options\n",
    "from selenium.webdriver.common.by import By\n",
    "from selenium.webdriver.support.ui import WebDriverWait\n",
    "from selenium.webdriver.support import expected_conditions as EC"
   ]
  },
  {
   "cell_type": "markdown",
   "metadata": {},
   "source": [
    "### Location pop-up "
   ]
  },
  {
   "cell_type": "code",
   "execution_count": null,
   "metadata": {},
   "outputs": [],
   "source": [
    "option = Options()\n",
    "\n",
    "# Pass the argument 1 to allow and 2 to block\n",
    "\n",
    "option.add_experimental_option(\"prefs\", { \n",
    "    \"profile.default_content_setting_values.notifications\": 2 \n",
    "})\n"
   ]
  },
  {
   "cell_type": "markdown",
   "metadata": {},
   "source": [
    "### Setting up webdriver"
   ]
  },
  {
   "cell_type": "code",
   "execution_count": null,
   "metadata": {},
   "outputs": [],
   "source": [
    "# location where the chrome driver is\n",
    "# make sure you have changed the path as per your system\n",
    "\n",
    "path = 'C:/Users/Win 10/Desktop/chromedriver_win32/chromedriver.exe'\n",
    "driver = webdriver.Chrome(chrome_options=option,executable_path =path)"
   ]
  },
  {
   "cell_type": "markdown",
   "metadata": {},
   "source": [
    "### Visiting Facebook page"
   ]
  },
  {
   "cell_type": "code",
   "execution_count": null,
   "metadata": {},
   "outputs": [],
   "source": [
    "# visit on facebook page and maximize the window \n",
    "driver.get('https://www.facebook.com/')\n",
    "driver.maximize_window()"
   ]
  },
  {
   "cell_type": "markdown",
   "metadata": {},
   "source": [
    "### Login to Facebook using ID and Password"
   ]
  },
  {
   "cell_type": "code",
   "execution_count": null,
   "metadata": {},
   "outputs": [],
   "source": [
    "def log_in(user_id,pass_):    \n",
    "    \n",
    "    username = driver.find_element_by_id('email')\n",
    "    username.send_keys(user_id)\n",
    "    password = driver.find_element_by_id('pass')\n",
    "    password.send_keys(pass_)\n",
    "    login = driver.find_element_by_name('login')\n",
    "    login.click()\n",
    "    print(\"Logged-in Succesfully\")"
   ]
  },
  {
   "cell_type": "code",
   "execution_count": null,
   "metadata": {},
   "outputs": [],
   "source": [
    "# pass email-id/phone number and password as arguement\n",
    "\n",
    "# E.g.--->> Id = 'xyz@gmail.com' , Password = 'qwerty' \n",
    "id_ = ''\n",
    "pass_ = '' \n",
    "log_in(id_,pass_)"
   ]
  },
  {
   "cell_type": "code",
   "execution_count": null,
   "metadata": {},
   "outputs": [],
   "source": [
    "def send_request():\n",
    "    time.sleep(3)\n",
    "    req = driver.find_elements_by_tag_name('img')\n",
    "    req[3].click()"
   ]
  },
  {
   "cell_type": "markdown",
   "metadata": {},
   "source": [
    "### Adding 1 friend from the same location as the location of my ID"
   ]
  },
  {
   "cell_type": "code",
   "execution_count": null,
   "metadata": {},
   "outputs": [],
   "source": [
    "def add_friend():\n",
    "    \n",
    "    # Clicking on profile\n",
    "    WebDriverWait(driver, 10).until(EC.element_to_be_clickable((By.XPATH, \"/html/body/div[1]/div/div[1]/div/div[2]/div[4]/div[1]/span/div/div[1]\"))).click()\n",
    "    \n",
    "    # See the profile\n",
    "    WebDriverWait(driver, 10).until(EC.element_to_be_clickable((By.XPATH, \"/html/body/div[1]/div/div[1]/div/div[2]/div[4]/div[2]/div/div/div[1]/div[1]/div/div/div/div/div/div/div/div/div[1]/div/div[1]/a/div[1]/div[2]/div/div/div/div[2]/span\"))).click()\n",
    "\n",
    "    \n",
    "    # Location of the profile\n",
    "    scroll = driver.execute_script('window.scrollBy(0,300);')\n",
    "    loc = WebDriverWait(driver, 10).until(EC.presence_of_element_located((By.XPATH, \"/html/body/div[1]/div/div[1]/div/div[3]/div/div/div[2]/div[1]/div/div/div[4]/div[2]/div/div[1]/div[2]/div/div[1]/div/div/div/div/div[2]/div[1]/div/ul/div/div[2]/div/div/span/a/div/span\")))\n",
    "    print(\"Location:\",loc.text)\n",
    "    loc.click()\n",
    "    \n",
    "     # Friend's Profile\n",
    "    time.sleep(1)\n",
    "    scroll = driver.execute_script('window.scrollBy(0,300);')\n",
    "    search = driver.find_element_by_xpath('/html/body/div[1]/div/div[1]/div/div[2]/div[2]/div/div/div/div/label')\n",
    "    search.send_keys('Los Angeles, California')\n",
    "    time.sleep(1)\n",
    "    search.send_keys(Keys.RETURN)\n",
    "    \n",
    "    time.sleep(1)\n",
    "    people = driver.find_element_by_link_text('People').click()\n",
    "    time.sleep(1)\n",
    "    friend = WebDriverWait(driver, 10).until(EC.presence_of_element_located((By.CLASS_NAME, \"sjgh65i0\"))).text.split('\\n')[0]\n",
    "    Id = WebDriverWait(driver, 10).until(EC.presence_of_element_located((By.LINK_TEXT, friend)))\n",
    "    Id.click()\n",
    "    \n",
    "    # Friend request\n",
    "    send_request()\n",
    "    print(\"Friend Request sent to\",friend)"
   ]
  },
  {
   "cell_type": "code",
   "execution_count": null,
   "metadata": {},
   "outputs": [],
   "source": [
    "add_friend()"
   ]
  },
  {
   "cell_type": "markdown",
   "metadata": {},
   "source": [
    "### Update account status(text-based) "
   ]
  },
  {
   "cell_type": "code",
   "execution_count": null,
   "metadata": {},
   "outputs": [],
   "source": [
    "# You can replace the quote here, below quote will be shown as status\n",
    "quote = \"Persistence is very important. You should not give up unless you are forced to give up- Elon Musk\""
   ]
  },
  {
   "cell_type": "code",
   "execution_count": null,
   "metadata": {},
   "outputs": [],
   "source": [
    "def account_status(quote):\n",
    "    \n",
    "    home =  WebDriverWait(driver, 2).until(EC.element_to_be_clickable((By.XPATH, \"/html/body/div[1]/div/div[1]/div/div[2]/div[3]/div/div[1]/div[1]/ul/li[1]/span/div/a/span\")))\n",
    "    home.click()\n",
    "    story = WebDriverWait(driver, 2).until(EC.presence_of_element_located((By.PARTIAL_LINK_TEXT, \"Create\")))\n",
    "    story.click()\n",
    "\n",
    "\n",
    "    text =  WebDriverWait(driver, 2).until(EC.presence_of_element_located((By.XPATH, \"/html/body/div[1]/div/div[1]/div/div[4]/div/div/div[1]/div/div[3]/div[2]/div[2]/div/div/div/div/div[2]/div[1]/div[2]\")))\n",
    "    text.click()\n",
    "\n",
    "    text_box = WebDriverWait(driver, 2).until(EC.presence_of_element_located((By.XPATH, \"/html/body/div[1]/div/div[1]/div/div[4]/div/div/div[1]/div/div[3]/div[2]/div[1]/div/div[3]/div[1]/div[2]/div/div[3]/div/div[1]/div/label/div/div/textarea\")))\n",
    "    text_box.click()\n",
    "    text_box.send_keys(quote)\n",
    "    time.sleep(1)\n",
    "    share =  WebDriverWait(driver, 2).until(EC.presence_of_element_located((By.XPATH, \"/html/body/div[1]/div/div[1]/div/div[4]/div/div/div[1]/div/div[3]/div[2]/div[1]/div/div[4]/div[2]/div/div[1]/div/span/span\")))\n",
    "    share.click()\n",
    "    \n",
    "    print(\"Account status updated\")"
   ]
  },
  {
   "cell_type": "code",
   "execution_count": null,
   "metadata": {},
   "outputs": [],
   "source": [
    "account_status()"
   ]
  },
  {
   "cell_type": "markdown",
   "metadata": {},
   "source": [
    "###  Comment on the most recent post of friend"
   ]
  },
  {
   "cell_type": "code",
   "execution_count": null,
   "metadata": {},
   "outputs": [],
   "source": [
    "# Edit the comment (if you want)\n",
    "com = \"Great\""
   ]
  },
  {
   "cell_type": "code",
   "execution_count": null,
   "metadata": {},
   "outputs": [],
   "source": [
    "def comment(com):\n",
    "    \n",
    "    # Clicking on profile\n",
    "    p = WebDriverWait(driver, 5).until(EC.presence_of_element_located((By.XPATH, \"/html/body/div[1]/div/div[1]/div/div[2]/div[4]/div[1]/span/div/div[1]\")))\n",
    "    p.click()\n",
    "    # See the profile\n",
    "    q = WebDriverWait(driver, 5).until(EC.presence_of_element_located((By.XPATH, \"/html/body/div[1]/div/div[1]/div/div[2]/div[4]/div[2]/div/div/div[1]/div[1]/div/div/div/div/div/div/div/div/div[1]/div/div[1]/a/div[1]/div[2]/div/div/div/div[2]/span\")))\n",
    "    q.click()\n",
    "    \n",
    "    time.sleep(2)\n",
    "    # Friends\n",
    "    friends = driver.find_element_by_link_text(\"Friends\")\n",
    "    friends.click()\n",
    "\n",
    "    x =  WebDriverWait(driver, 2).until(EC.presence_of_element_located((By.XPATH, \"/html/body/div[1]/div/div[1]/div/div[3]/div/div/div[1]/div[1]/div/div/div[4]/div/div/div/div[1]/div/div/div/div/div[3]/div\"))).text.split()[0]\n",
    "    \n",
    "    WebDriverWait(driver, 2).until(EC.presence_of_element_located((By.PARTIAL_LINK_TEXT, x))).click()\n",
    "    \n",
    "    time.sleep(1)\n",
    "    scroll = driver.execute_script('window.scrollBy(0,1000);')\n",
    "\n",
    "    y = driver.find_element_by_xpath(\"/html/body/div[1]/div/div[1]/div/div[3]/div/div/div[1]/div[1]/div/div/div[4]/div[2]/div/div[2]/div[2]/div[1]/div/div/div/div/div/div/div/div/div/div/div[2]/div/div[4]/div/div/div/div/div[2]/div/div[2]/div/div[1]\")\n",
    "    y.click()\n",
    "    \n",
    "    time.sleep(2)\n",
    "    z = driver.find_element_by_xpath(\"/html/body/div[1]/div/div[1]/div/div[3]/div/div/div[1]/div[1]/div/div/div[4]/div[2]/div/div[2]/div[2]/div[1]/div/div/div/div/div/div/div/div/div/div/div[2]/div/div[4]/div/div/div[2]/div[5]/div[2]/div[1]/div/div/div/form/div/div/div[2]/div/div/div/div\")\n",
    "    z.send_keys(com)\n",
    "    z.send_keys(Keys.RETURN)\n",
    "    print(\"Commented on\",x+\"'s\",\"Post\")"
   ]
  },
  {
   "cell_type": "code",
   "execution_count": null,
   "metadata": {},
   "outputs": [],
   "source": [
    "comment()"
   ]
  }
 ],
 "metadata": {
  "kernelspec": {
   "display_name": "Python 3",
   "language": "python",
   "name": "python3"
  },
  "language_info": {
   "codemirror_mode": {
    "name": "ipython",
    "version": 3
   },
   "file_extension": ".py",
   "mimetype": "text/x-python",
   "name": "python",
   "nbconvert_exporter": "python",
   "pygments_lexer": "ipython3",
   "version": "3.8.5"
  }
 },
 "nbformat": 4,
 "nbformat_minor": 4
}
